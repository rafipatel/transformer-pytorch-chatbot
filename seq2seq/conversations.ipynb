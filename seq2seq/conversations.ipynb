{
 "cells": [
  {
   "cell_type": "markdown",
   "metadata": {},
   "source": [
    "# Welcome to chat with Seq2Seq Chatbot\n",
    "\n",
    "\n",
    "Please, restart and run for each cell"
   ]
  },
  {
   "cell_type": "markdown",
   "metadata": {},
   "source": [
    "## Seq2Seq without attention"
   ]
  },
  {
   "cell_type": "markdown",
   "metadata": {},
   "source": [
    "Available checkpoints without attention"
   ]
  },
  {
   "cell_type": "code",
   "execution_count": 5,
   "metadata": {},
   "outputs": [
    {
     "name": "stdout",
     "output_type": "stream",
     "text": [
      "checkpoint_seq2seq_10000.pth.tar\n",
      "checkpoint_seq2seq_1000000.pth.tar\n",
      "checkpoint_seq2seq_4000.pth.tar\n"
     ]
    }
   ],
   "source": [
    "import os\n",
    "for path in os.listdir('checkpoints'):\n",
    "    if 'attention' not in path:\n",
    "        print(path)"
   ]
  },
  {
   "cell_type": "code",
   "execution_count": 1,
   "metadata": {},
   "outputs": [
    {
     "name": "stdout",
     "output_type": "stream",
     "text": [
      "Building encoder and decoder ...\n",
      "Models built and ready to go!\n"
     ]
    },
    {
     "data": {
      "application/vnd.jupyter.widget-view+json": {
       "model_id": "604db85543b548d696e46c151b5467c0",
       "version_major": 2,
       "version_minor": 0
      },
      "text/plain": [
       "HBox(children=(Text(value='', description='User:', placeholder='Type something and press enter...'), Button(de…"
      ]
     },
     "metadata": {},
     "output_type": "display_data"
    },
    {
     "data": {
      "application/vnd.jupyter.widget-view+json": {
       "model_id": "270198107fcf41f18a9f7fb934433aa8",
       "version_major": 2,
       "version_minor": 0
      },
      "text/plain": [
       "Output()"
      ]
     },
     "metadata": {},
     "output_type": "display_data"
    }
   ],
   "source": [
    "from evaluate import conversation\n",
    "loadFilename  = r\"checkpoints\\checkpoint_seq2seq_10000.pth.tar\"\n",
    "conversation(loadFilename)"
   ]
  },
  {
   "cell_type": "markdown",
   "metadata": {},
   "source": [
    "## Seq2Seq with attention"
   ]
  },
  {
   "cell_type": "code",
   "execution_count": 6,
   "metadata": {},
   "outputs": [
    {
     "name": "stdout",
     "output_type": "stream",
     "text": [
      "checkpoint_seq2seq_10000_attention.pth.tar\n",
      "checkpoint_seq2seq_4000_attention.pth.tar\n",
      "checkpoint_seq2seq_940000_attention.pth.tar\n"
     ]
    }
   ],
   "source": [
    "import os\n",
    "for path in os.listdir('checkpoints'):\n",
    "    if 'attention' in path:\n",
    "        print(path)"
   ]
  },
  {
   "cell_type": "code",
   "execution_count": 1,
   "metadata": {},
   "outputs": [
    {
     "name": "stdout",
     "output_type": "stream",
     "text": [
      "Building encoder and decoder ...\n",
      "Models building...\n"
     ]
    },
    {
     "data": {
      "application/vnd.jupyter.widget-view+json": {
       "model_id": "ff5f09d164d344c1a259cfa3ebd9de0a",
       "version_major": 2,
       "version_minor": 0
      },
      "text/plain": [
       "HBox(children=(Text(value='', description='User:', placeholder='Type something and press enter...'), Button(de…"
      ]
     },
     "metadata": {},
     "output_type": "display_data"
    },
    {
     "data": {
      "application/vnd.jupyter.widget-view+json": {
       "model_id": "f0b82d279ea34cd595ebfed7533ea657",
       "version_major": 2,
       "version_minor": 0
      },
      "text/plain": [
       "Output()"
      ]
     },
     "metadata": {},
     "output_type": "display_data"
    }
   ],
   "source": [
    "from evaluate import conversation\n",
    "loadFilename  = r\"checkpoints\\checkpoint_seq2seq_10000_attention.pth.tar\"\n",
    "conversation(loadFilename)"
   ]
  },
  {
   "cell_type": "markdown",
   "metadata": {},
   "source": [
    "## Extra dynamic interactive window"
   ]
  },
  {
   "cell_type": "code",
   "execution_count": 2,
   "metadata": {},
   "outputs": [
    {
     "data": {
      "application/vnd.jupyter.widget-view+json": {
       "model_id": "72cd2bdf00554f27839eb67bbcb4c370",
       "version_major": 2,
       "version_minor": 0
      },
      "text/plain": [
       "Text(value='', description='User:', placeholder='Type something')"
      ]
     },
     "metadata": {},
     "output_type": "display_data"
    },
    {
     "data": {
      "application/vnd.jupyter.widget-view+json": {
       "model_id": "b94c3b475ccf4c429713711c7f00f0da",
       "version_major": 2,
       "version_minor": 0
      },
      "text/plain": [
       "Output()"
      ]
     },
     "metadata": {},
     "output_type": "display_data"
    }
   ],
   "source": [
    "import ipywidgets as widgets\n",
    "from IPython.display import display, clear_output\n",
    "\n",
    "from evaluate import *\n",
    "\n",
    "def chat_with_chatbot(encoder, decoder, searcher, voc):\n",
    "    \n",
    "    def on_text_submit(change):\n",
    "        input_sentence = change.new\n",
    "        # Check if it is quit case\n",
    "        if input_sentence.lower() in ['q', 'quit']:\n",
    "            print(\"Quitting the chat.\")\n",
    "            return\n",
    "        \n",
    "        try:\n",
    "            # Normalize sentence\n",
    "            input_sentence = normalizeString(input_sentence)\n",
    "            # Evaluate sentence\n",
    "            output_words, logits = evaluate(encoder, decoder, searcher, voc, input_sentence)\n",
    "            output_sentence = ' '.join(output_words).split('.')[0]\n",
    "            output_sentence = normalizeString(output_sentence)\n",
    "            # Display input and output\n",
    "            with output_area:\n",
    "                clear_output(wait=True)\n",
    "                print(f\"User: {input_sentence}\")\n",
    "                print(f\"chatGPT Bro: {output_sentence}\")\n",
    "        \n",
    "        except KeyError:\n",
    "            with output_area:\n",
    "                clear_output(wait=True)\n",
    "                print(\"Error: Encountered unknown word.\")\n",
    "    \n",
    "    # Creating text input field\n",
    "    text_input = widgets.Text(\n",
    "        value='',\n",
    "        placeholder='Type something',\n",
    "        description='User:',\n",
    "        disabled=False\n",
    "    )\n",
    "    \n",
    "    # Output display area\n",
    "    output_area = widgets.Output()\n",
    "    \n",
    "    # Link text field to function\n",
    "    text_input.observe(on_text_submit, names='value')\n",
    "    \n",
    "    # Display widgets\n",
    "    display(text_input, output_area)\n",
    "\n",
    "searcher = GreedySearchDecoder(encoder, decoder)\n",
    "\n",
    "encoder.eval()\n",
    "decoder.eval()\n",
    "# Example usage:\n",
    "# Assuming encoder, decoder, searcher, and voc are already initialized\n",
    "chat_with_chatbot(encoder, decoder, searcher, voc)"
   ]
  },
  {
   "cell_type": "code",
   "execution_count": null,
   "metadata": {},
   "outputs": [],
   "source": []
  }
 ],
 "metadata": {
  "kernelspec": {
   "display_name": "Python 3",
   "language": "python",
   "name": "python3"
  },
  "language_info": {
   "codemirror_mode": {
    "name": "ipython",
    "version": 3
   },
   "file_extension": ".py",
   "mimetype": "text/x-python",
   "name": "python",
   "nbconvert_exporter": "python",
   "pygments_lexer": "ipython3",
   "version": "3.11.5"
  }
 },
 "nbformat": 4,
 "nbformat_minor": 2
}
