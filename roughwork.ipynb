{
 "cells": [
  {
   "cell_type": "code",
   "execution_count": 8,
   "metadata": {},
   "outputs": [],
   "source": [
    "from collections import Counter\n",
    "\n",
    "word_freq = Counter()\n",
    "for pair in [(\"apple\", \"is\" ,\"mad\",\"banana\" ,\"dfd\"),(\"kela\", \"ahha\",\"seb\", \"ok\")]:\n",
    "    word_freq.update(pair[0])\n",
    "    word_freq.update(pair[1])"
   ]
  },
  {
   "cell_type": "code",
   "execution_count": 5,
   "metadata": {},
   "outputs": [
    {
     "data": {
      "text/html": [
       "<div>\n",
       "<style scoped>\n",
       "    .dataframe tbody tr th:only-of-type {\n",
       "        vertical-align: middle;\n",
       "    }\n",
       "\n",
       "    .dataframe tbody tr th {\n",
       "        vertical-align: top;\n",
       "    }\n",
       "\n",
       "    .dataframe thead th {\n",
       "        text-align: right;\n",
       "    }\n",
       "</style>\n",
       "<table border=\"1\" class=\"dataframe\">\n",
       "  <thead>\n",
       "    <tr style=\"text-align: right;\">\n",
       "      <th></th>\n",
       "      <th>document_id</th>\n",
       "      <th>set</th>\n",
       "      <th>question</th>\n",
       "      <th>answer1</th>\n",
       "      <th>answer2</th>\n",
       "      <th>question_tokenized</th>\n",
       "      <th>answer1_tokenized</th>\n",
       "      <th>answer2_tokenized</th>\n",
       "    </tr>\n",
       "  </thead>\n",
       "  <tbody>\n",
       "    <tr>\n",
       "      <th>0</th>\n",
       "      <td>0025577043f5090cd603c6aea60f26e236195594</td>\n",
       "      <td>test</td>\n",
       "      <td>Who is Mark Hunter?</td>\n",
       "      <td>He is a high school student in Phoenix.</td>\n",
       "      <td>A loner and outsider student with a radio stat...</td>\n",
       "      <td>Who is Mark Hunter ?</td>\n",
       "      <td>He is a high school student in Phoenix .</td>\n",
       "      <td>A loner and outsider student with a radio stat...</td>\n",
       "    </tr>\n",
       "    <tr>\n",
       "      <th>1</th>\n",
       "      <td>0025577043f5090cd603c6aea60f26e236195594</td>\n",
       "      <td>test</td>\n",
       "      <td>Where does this radio station take place?</td>\n",
       "      <td>It takes place in Mark's parents basement.</td>\n",
       "      <td>Phoenix, Arizona</td>\n",
       "      <td>Where does this radio station take place ?</td>\n",
       "      <td>It takes place in Mark s parents basement .</td>\n",
       "      <td>Phoenix , Arizona</td>\n",
       "    </tr>\n",
       "    <tr>\n",
       "      <th>2</th>\n",
       "      <td>0025577043f5090cd603c6aea60f26e236195594</td>\n",
       "      <td>test</td>\n",
       "      <td>Why do more students tune into Mark's show?</td>\n",
       "      <td>Mark talks about what goes on at school and in...</td>\n",
       "      <td>Because he has a thing to say about what is ha...</td>\n",
       "      <td>Why do more students tune into Mark s show ?</td>\n",
       "      <td>Mark talks about what goes on at school and in...</td>\n",
       "      <td>Because he has a thing to say about what is ha...</td>\n",
       "    </tr>\n",
       "    <tr>\n",
       "      <th>3</th>\n",
       "      <td>0025577043f5090cd603c6aea60f26e236195594</td>\n",
       "      <td>test</td>\n",
       "      <td>Who commits suicide?</td>\n",
       "      <td>Malcolm.</td>\n",
       "      <td>Malcolm.</td>\n",
       "      <td>Who commits suicide ?</td>\n",
       "      <td>Malcolm .</td>\n",
       "      <td>Malcolm .</td>\n",
       "    </tr>\n",
       "    <tr>\n",
       "      <th>4</th>\n",
       "      <td>0025577043f5090cd603c6aea60f26e236195594</td>\n",
       "      <td>test</td>\n",
       "      <td>What does Paige jam into her microwave?</td>\n",
       "      <td>She jams her medals and accolades.</td>\n",
       "      <td>Her award medals</td>\n",
       "      <td>What does Paige jam into her microwave ?</td>\n",
       "      <td>She jams her medals and accolades .</td>\n",
       "      <td>Her award medals</td>\n",
       "    </tr>\n",
       "  </tbody>\n",
       "</table>\n",
       "</div>"
      ],
      "text/plain": [
       "                                document_id   set  \\\n",
       "0  0025577043f5090cd603c6aea60f26e236195594  test   \n",
       "1  0025577043f5090cd603c6aea60f26e236195594  test   \n",
       "2  0025577043f5090cd603c6aea60f26e236195594  test   \n",
       "3  0025577043f5090cd603c6aea60f26e236195594  test   \n",
       "4  0025577043f5090cd603c6aea60f26e236195594  test   \n",
       "\n",
       "                                      question  \\\n",
       "0                          Who is Mark Hunter?   \n",
       "1    Where does this radio station take place?   \n",
       "2  Why do more students tune into Mark's show?   \n",
       "3                         Who commits suicide?   \n",
       "4      What does Paige jam into her microwave?   \n",
       "\n",
       "                                             answer1  \\\n",
       "0            He is a high school student in Phoenix.   \n",
       "1        It takes place in Mark's parents basement.    \n",
       "2  Mark talks about what goes on at school and in...   \n",
       "3                                           Malcolm.   \n",
       "4                She jams her medals and accolades.    \n",
       "\n",
       "                                             answer2  \\\n",
       "0  A loner and outsider student with a radio stat...   \n",
       "1                                   Phoenix, Arizona   \n",
       "2  Because he has a thing to say about what is ha...   \n",
       "3                                           Malcolm.   \n",
       "4                                   Her award medals   \n",
       "\n",
       "                             question_tokenized  \\\n",
       "0                          Who is Mark Hunter ?   \n",
       "1    Where does this radio station take place ?   \n",
       "2  Why do more students tune into Mark s show ?   \n",
       "3                         Who commits suicide ?   \n",
       "4      What does Paige jam into her microwave ?   \n",
       "\n",
       "                                   answer1_tokenized  \\\n",
       "0           He is a high school student in Phoenix .   \n",
       "1        It takes place in Mark s parents basement .   \n",
       "2  Mark talks about what goes on at school and in...   \n",
       "3                                          Malcolm .   \n",
       "4                She jams her medals and accolades .   \n",
       "\n",
       "                                   answer2_tokenized  \n",
       "0  A loner and outsider student with a radio stat...  \n",
       "1                                  Phoenix , Arizona  \n",
       "2  Because he has a thing to say about what is ha...  \n",
       "3                                          Malcolm .  \n",
       "4                                   Her award medals  "
      ]
     },
     "execution_count": 5,
     "metadata": {},
     "output_type": "execute_result"
    }
   ],
   "source": [
    "import pandas as pd\n",
    "\n",
    "df = pd.read_csv(r\"C:\\Users\\rafip\\Downloads\\qaps.csv\")\n",
    "\n",
    "df.head()"
   ]
  },
  {
   "cell_type": "code",
   "execution_count": 21,
   "metadata": {},
   "outputs": [],
   "source": [
    "newdata_pairs = list()\n",
    "for i,row in df[:2].iterrows():\n",
    "    newdata_pairs.append([[row['question']],[row['answer1']]])\n",
    "    newdata_pairs.append([[row['question']],[row['answer2']]])\n",
    "    "
   ]
  },
  {
   "cell_type": "code",
   "execution_count": 22,
   "metadata": {},
   "outputs": [
    {
     "data": {
      "text/plain": [
       "[[['Who is Mark Hunter?'], ['He is a high school student in Phoenix.']],\n",
       " [['Who is Mark Hunter?'],\n",
       "  ['A loner and outsider student with a radio station.']],\n",
       " [['Where does this radio station take place?'],\n",
       "  [\"It takes place in Mark's parents basement. \"]],\n",
       " [['Where does this radio station take place?'], ['Phoenix, Arizona']]]"
      ]
     },
     "execution_count": 22,
     "metadata": {},
     "output_type": "execute_result"
    }
   ],
   "source": [
    "newdata_pairs"
   ]
  },
  {
   "cell_type": "code",
   "execution_count": null,
   "metadata": {},
   "outputs": [],
   "source": []
  },
  {
   "cell_type": "code",
   "execution_count": null,
   "metadata": {},
   "outputs": [],
   "source": []
  }
 ],
 "metadata": {
  "kernelspec": {
   "display_name": "Python 3",
   "language": "python",
   "name": "python3"
  },
  "language_info": {
   "codemirror_mode": {
    "name": "ipython",
    "version": 3
   },
   "file_extension": ".py",
   "mimetype": "text/x-python",
   "name": "python",
   "nbconvert_exporter": "python",
   "pygments_lexer": "ipython3",
   "version": "3.11.5"
  }
 },
 "nbformat": 4,
 "nbformat_minor": 2
}
